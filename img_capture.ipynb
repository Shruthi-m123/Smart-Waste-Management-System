{
 "cells": [
  {
   "cell_type": "code",
   "execution_count": 6,
   "id": "6d1ce5a9-1bfd-4153-9448-0a1d7c5fbfee",
   "metadata": {},
   "outputs": [],
   "source": [
    "import cv2\n",
    "import os\n"
   ]
  },
  {
   "cell_type": "code",
   "execution_count": 8,
   "id": "53a60291-ae86-4680-af21-ab6fd03afc83",
   "metadata": {},
   "outputs": [
    {
     "name": "stdout",
     "output_type": "stream",
     "text": [
      "Press 'c' to capture an image and save it to 'captured_images' folder.\n",
      "Image captured and saved to captured_images\\captured_image.jpg\n"
     ]
    }
   ],
   "source": [
    "\n",
    "def capture_image(save_folder):\n",
    "  \n",
    "    if not os.path.exists(save_folder):\n",
    "        os.makedirs(save_folder)\n",
    "        print(f\"Folder '{save_folder}' created.\")\n",
    "\n",
    "    \n",
    "    cap = cv2.VideoCapture(0)\n",
    "\n",
    "   \n",
    "    if not cap.isOpened():\n",
    "        print(\"Error: Could not open webcam.\")\n",
    "        return None\n",
    "    \n",
    "    print(f\"Press 'c' to capture an image and save it to '{save_folder}' folder.\")\n",
    "    \n",
    "    while True:\n",
    "        ret, frame = cap.read()  \n",
    "        if not ret:\n",
    "            print(\"Error: Failed to capture image.\")\n",
    "            break\n",
    "        \n",
    "      \n",
    "        cv2.imshow('Webcam Feed', frame)\n",
    "\n",
    "\n",
    "\n",
    "        \n",
    "       \n",
    "        key = cv2.waitKey(1) & 0xFF\n",
    "        if key == ord('c'):  # Press 'c' to capture the image\n",
    "           \n",
    "            image_path = os.path.join(save_folder, 'captured_image.jpg')\n",
    "            \n",
    "            \n",
    "            cv2.imwrite(image_path, frame)\n",
    "            print(f\"Image captured and saved to {image_path}\")\n",
    "            break\n",
    "    \n",
    "    \n",
    "    cap.release()\n",
    "    cv2.destroyAllWindows()\n",
    "\n",
    "\n",
    "if __name__ == \"__main__\":\n",
    "    save_folder = 'captured_images'  \n",
    "    capture_image(save_folder)\n"
   ]
  },
  {
   "cell_type": "code",
   "execution_count": null,
   "id": "cec84392-7416-4b06-ab75-ec090a5809e7",
   "metadata": {},
   "outputs": [],
   "source": []
  },
  {
   "cell_type": "code",
   "execution_count": null,
   "id": "a4dc3f87-7df2-4b1a-b5a4-ff6eacf8a492",
   "metadata": {},
   "outputs": [],
   "source": []
  }
 ],
 "metadata": {
  "kernelspec": {
   "display_name": "Python 3 (ipykernel)",
   "language": "python",
   "name": "python3"
  },
  "language_info": {
   "codemirror_mode": {
    "name": "ipython",
    "version": 3
   },
   "file_extension": ".py",
   "mimetype": "text/x-python",
   "name": "python",
   "nbconvert_exporter": "python",
   "pygments_lexer": "ipython3",
   "version": "3.8.10"
  }
 },
 "nbformat": 4,
 "nbformat_minor": 5
}
